{
 "cells": [
  {
   "cell_type": "code",
   "execution_count": 1,
   "metadata": {
    "id": "I2lgl22krF8T"
   },
   "outputs": [],
   "source": [
    "import matplotlib.pyplot as plt\n",
    "import pandas as pd\n",
    "import numpy as np\n",
    "import pickle\n",
    "\n",
    "import re\n",
    "import nltk\n",
    "import string\n",
    "from nltk.corpus import stopwords\n",
    "\n",
    "\n",
    "from sklearn.feature_extraction.text import TfidfVectorizer\n",
    "\n",
    "from sklearn.preprocessing import MultiLabelBinarizer, LabelBinarizer\n",
    "from sklearn.model_selection import train_test_split\n",
    "from sklearn.metrics import classification_report, accuracy_score, hamming_loss\n",
    "\n",
    "from sklearn.linear_model import LogisticRegression\n",
    "from sklearn.svm import LinearSVC\n",
    "from sklearn.naive_bayes import MultinomialNB\n",
    "from sklearn.metrics import f1_score\n",
    "\n",
    "\n",
    "from sklearn.multiclass import OneVsRestClassifier\n",
    "from sklearn import metrics\n"
   ]
  },
  {
   "cell_type": "code",
   "execution_count": 2,
   "metadata": {
    "colab": {
     "base_uri": "https://localhost:8080/"
    },
    "executionInfo": {
     "elapsed": 712,
     "status": "ok",
     "timestamp": 1658867094269,
     "user": {
      "displayName": "Ethan Ortega",
      "userId": "02676512938622281977"
     },
     "user_tz": 420
    },
    "id": "QSDffMUTrF8X",
    "outputId": "9db9a2bc-482e-4bc9-c1c3-d992fcdb4ef0"
   },
   "outputs": [
    {
     "name": "stderr",
     "output_type": "stream",
     "text": [
      "[nltk_data] Downloading package stopwords to\n",
      "[nltk_data]     C:\\Users\\rases\\AppData\\Roaming\\nltk_data...\n",
      "[nltk_data]   Package stopwords is already up-to-date!\n",
      "[nltk_data] Downloading package wordnet to\n",
      "[nltk_data]     C:\\Users\\rases\\AppData\\Roaming\\nltk_data...\n",
      "[nltk_data]   Package wordnet is already up-to-date!\n",
      "[nltk_data] Downloading package omw-1.4 to\n",
      "[nltk_data]     C:\\Users\\rases\\AppData\\Roaming\\nltk_data...\n",
      "[nltk_data]   Package omw-1.4 is already up-to-date!\n"
     ]
    },
    {
     "data": {
      "text/plain": [
       "True"
      ]
     },
     "execution_count": 2,
     "metadata": {},
     "output_type": "execute_result"
    }
   ],
   "source": [
    "nltk.download('stopwords')\n",
    "nltk.download('wordnet')\n",
    "nltk.download('omw-1.4')"
   ]
  },
  {
   "cell_type": "code",
   "execution_count": 3,
   "metadata": {
    "colab": {
     "base_uri": "https://localhost:8080/"
    },
    "executionInfo": {
     "elapsed": 896,
     "status": "ok",
     "timestamp": 1658869437762,
     "user": {
      "displayName": "Ethan Ortega",
      "userId": "02676512938622281977"
     },
     "user_tz": 420
    },
    "id": "mxBGjUGerF8Y",
    "outputId": "2a5fb951-77a4-4632-db31-114d77423434"
   },
   "outputs": [
    {
     "data": {
      "text/plain": [
       "0          [Phase 1: LANDING, Phase 2: UNKNOWN, Phase 3: ]\n",
       "1        [Phase 1: UNKNOWN, AIRBORNE, Phase 2: UNKNOWN,...\n",
       "2        [Phase 1: UNKNOWN, AIRBORNE, Phase 2: , Phase ...\n",
       "3                 [Phase 1: LANDING, Phase 2: , Phase 3: ]\n",
       "4        [Phase 1: UNKNOWN, AIRBORNE, Phase 2: UNKNOWN,...\n",
       "                               ...                        \n",
       "21243    [Phase 1: VEHICLE / PEDESTRIAN MOVEMENT, Phase...\n",
       "21244                [Phase 1: TAXI, Phase 2: , Phase 3: ]\n",
       "21245                [Phase 1: TAXI, Phase 2: , Phase 3: ]\n",
       "21246                [Phase 1: TAXI, Phase 2: , Phase 3: ]\n",
       "21247       [Phase 1: TAXI, Phase 2: DEPARTURE, Phase 3: ]\n",
       "Name: PHASES, Length: 21248, dtype: object"
      ]
     },
     "execution_count": 3,
     "metadata": {},
     "output_type": "execute_result"
    }
   ],
   "source": [
    "flightData = pd.read_csv('UCRIVERSIDE_20220617 (1).xlsx - EVENTS.csv')\n",
    "\n",
    "\n",
    "miniDf = flightData[['NARRATIVE REDACTED', 'PHASE 1','PHASE 2', 'PHASE 3']]\n",
    "\n",
    "miniDf = miniDf.replace(np.nan, '', regex=True)\n",
    "miniDf['PHASE 1'] = 'Phase 1: ' + miniDf['PHASE 1']\n",
    "miniDf['PHASE 2'] = 'Phase 2: ' + miniDf['PHASE 2']\n",
    "miniDf['PHASE 3'] = 'Phase 3: ' + miniDf['PHASE 3']\n",
    "\n",
    "miniDf['PHASES'] = miniDf[['PHASE 1','PHASE 2', 'PHASE 3']].values.tolist()\n",
    "# miniDf\n",
    "\n",
    "miniDf['PHASES']"
   ]
  },
  {
   "cell_type": "markdown",
   "metadata": {
    "id": "_uvuidlDv9HF"
   },
   "source": [
    "Labeling"
   ]
  },
  {
   "cell_type": "code",
   "execution_count": 4,
   "metadata": {
    "colab": {
     "base_uri": "https://localhost:8080/",
     "height": 423
    },
    "executionInfo": {
     "elapsed": 10,
     "status": "ok",
     "timestamp": 1658865831922,
     "user": {
      "displayName": "Saul Gonzalez",
      "userId": "07506133945313194166"
     },
     "user_tz": 420
    },
    "id": "iEpFtxEDt4sJ",
    "outputId": "9206c69c-88d9-4c20-b5d8-d7771b031cb0"
   },
   "outputs": [
    {
     "data": {
      "text/html": [
       "<div>\n",
       "<style scoped>\n",
       "    .dataframe tbody tr th:only-of-type {\n",
       "        vertical-align: middle;\n",
       "    }\n",
       "\n",
       "    .dataframe tbody tr th {\n",
       "        vertical-align: top;\n",
       "    }\n",
       "\n",
       "    .dataframe thead th {\n",
       "        text-align: right;\n",
       "    }\n",
       "</style>\n",
       "<table border=\"1\" class=\"dataframe\">\n",
       "  <thead>\n",
       "    <tr style=\"text-align: right;\">\n",
       "      <th></th>\n",
       "      <th>NARRATIVE REDACTED</th>\n",
       "      <th>PHASE 1</th>\n",
       "      <th>PHASE 2</th>\n",
       "      <th>PHASE 3</th>\n",
       "      <th>PHASES</th>\n",
       "    </tr>\n",
       "  </thead>\n",
       "  <tbody>\n",
       "    <tr>\n",
       "      <th>0</th>\n",
       "      <td>SIGNIFICANT OCCURRENCE REPORTED WHEN &lt;N_1&gt;, WM...</td>\n",
       "      <td>Phase 1: LANDING</td>\n",
       "      <td>Phase 2: UNKNOWN</td>\n",
       "      <td>Phase 3:</td>\n",
       "      <td>[Phase 1: LANDING, Phase 2: UNKNOWN, Phase 3: ]</td>\n",
       "    </tr>\n",
       "    <tr>\n",
       "      <th>1</th>\n",
       "      <td>NMAC REPORTED WHEN &lt;C_a&gt;, B748, AND &lt;C_b&gt;, B74...</td>\n",
       "      <td>Phase 1: UNKNOWN, AIRBORNE</td>\n",
       "      <td>Phase 2: UNKNOWN, AIRBORNE</td>\n",
       "      <td>Phase 3:</td>\n",
       "      <td>[Phase 1: UNKNOWN, AIRBORNE, Phase 2: UNKNOWN,...</td>\n",
       "    </tr>\n",
       "    <tr>\n",
       "      <th>2</th>\n",
       "      <td>&lt;C_a&gt;, PIPER PA31, DESCENDED 700 FEET BELOW AS...</td>\n",
       "      <td>Phase 1: UNKNOWN, AIRBORNE</td>\n",
       "      <td>Phase 2:</td>\n",
       "      <td>Phase 3:</td>\n",
       "      <td>[Phase 1: UNKNOWN, AIRBORNE, Phase 2: , Phase ...</td>\n",
       "    </tr>\n",
       "    <tr>\n",
       "      <th>3</th>\n",
       "      <td>&lt;N_1&gt;, PIPER PA46, CLEARED TO LAND RUNWAY 13L...</td>\n",
       "      <td>Phase 1: LANDING</td>\n",
       "      <td>Phase 2:</td>\n",
       "      <td>Phase 3:</td>\n",
       "      <td>[Phase 1: LANDING, Phase 2: , Phase 3: ]</td>\n",
       "    </tr>\n",
       "    <tr>\n",
       "      <th>4</th>\n",
       "      <td>&lt;CS_fr&gt;, GULFSTREAM GLF5, CLIMBED 500 FEET AB...</td>\n",
       "      <td>Phase 1: UNKNOWN, AIRBORNE</td>\n",
       "      <td>Phase 2: UNKNOWN, AIRBORNE</td>\n",
       "      <td>Phase 3:</td>\n",
       "      <td>[Phase 1: UNKNOWN, AIRBORNE, Phase 2: UNKNOWN,...</td>\n",
       "    </tr>\n",
       "    <tr>\n",
       "      <th>...</th>\n",
       "      <td>...</td>\n",
       "      <td>...</td>\n",
       "      <td>...</td>\n",
       "      <td>...</td>\n",
       "      <td>...</td>\n",
       "    </tr>\n",
       "    <tr>\n",
       "      <th>21243</th>\n",
       "      <td>PEDESTRIAN ENTERED TWY Z AND Y WITHOUT AUTHORI...</td>\n",
       "      <td>Phase 1: VEHICLE / PEDESTRIAN MOVEMENT</td>\n",
       "      <td>Phase 2:</td>\n",
       "      <td>Phase 3:</td>\n",
       "      <td>[Phase 1: VEHICLE / PEDESTRIAN MOVEMENT, Phase...</td>\n",
       "    </tr>\n",
       "    <tr>\n",
       "      <th>21244</th>\n",
       "      <td>&lt;N_1&gt;, CESSNA C172, CROSSED RUNWAY 12L WITHOUT...</td>\n",
       "      <td>Phase 1: TAXI</td>\n",
       "      <td>Phase 2:</td>\n",
       "      <td>Phase 3:</td>\n",
       "      <td>[Phase 1: TAXI, Phase 2: , Phase 3: ]</td>\n",
       "    </tr>\n",
       "    <tr>\n",
       "      <th>21245</th>\n",
       "      <td>&lt;N_1&gt;, CESSNA P210, CROSSED RUNWAY 22R HOLD LI...</td>\n",
       "      <td>Phase 1: TAXI</td>\n",
       "      <td>Phase 2:</td>\n",
       "      <td>Phase 3:</td>\n",
       "      <td>[Phase 1: TAXI, Phase 2: , Phase 3: ]</td>\n",
       "    </tr>\n",
       "    <tr>\n",
       "      <th>21246</th>\n",
       "      <td>&lt;CS_c&gt;, A21N, ENTERED TWY B, VEHICLE ACCESS RO...</td>\n",
       "      <td>Phase 1: TAXI</td>\n",
       "      <td>Phase 2:</td>\n",
       "      <td>Phase 3:</td>\n",
       "      <td>[Phase 1: TAXI, Phase 2: , Phase 3: ]</td>\n",
       "    </tr>\n",
       "    <tr>\n",
       "      <th>21247</th>\n",
       "      <td>&lt;CS_a&gt;, B739, CROSSED RUNWAY 34R HOLD LINE AT ...</td>\n",
       "      <td>Phase 1: TAXI</td>\n",
       "      <td>Phase 2: DEPARTURE</td>\n",
       "      <td>Phase 3:</td>\n",
       "      <td>[Phase 1: TAXI, Phase 2: DEPARTURE, Phase 3: ]</td>\n",
       "    </tr>\n",
       "  </tbody>\n",
       "</table>\n",
       "<p>21248 rows × 5 columns</p>\n",
       "</div>"
      ],
      "text/plain": [
       "                                      NARRATIVE REDACTED  \\\n",
       "0      SIGNIFICANT OCCURRENCE REPORTED WHEN <N_1>, WM...   \n",
       "1      NMAC REPORTED WHEN <C_a>, B748, AND <C_b>, B74...   \n",
       "2      <C_a>, PIPER PA31, DESCENDED 700 FEET BELOW AS...   \n",
       "3       <N_1>, PIPER PA46, CLEARED TO LAND RUNWAY 13L...   \n",
       "4       <CS_fr>, GULFSTREAM GLF5, CLIMBED 500 FEET AB...   \n",
       "...                                                  ...   \n",
       "21243  PEDESTRIAN ENTERED TWY Z AND Y WITHOUT AUTHORI...   \n",
       "21244  <N_1>, CESSNA C172, CROSSED RUNWAY 12L WITHOUT...   \n",
       "21245  <N_1>, CESSNA P210, CROSSED RUNWAY 22R HOLD LI...   \n",
       "21246  <CS_c>, A21N, ENTERED TWY B, VEHICLE ACCESS RO...   \n",
       "21247  <CS_a>, B739, CROSSED RUNWAY 34R HOLD LINE AT ...   \n",
       "\n",
       "                                      PHASE 1                     PHASE 2  \\\n",
       "0                            Phase 1: LANDING            Phase 2: UNKNOWN   \n",
       "1                  Phase 1: UNKNOWN, AIRBORNE  Phase 2: UNKNOWN, AIRBORNE   \n",
       "2                  Phase 1: UNKNOWN, AIRBORNE                   Phase 2:    \n",
       "3                            Phase 1: LANDING                   Phase 2:    \n",
       "4                  Phase 1: UNKNOWN, AIRBORNE  Phase 2: UNKNOWN, AIRBORNE   \n",
       "...                                       ...                         ...   \n",
       "21243  Phase 1: VEHICLE / PEDESTRIAN MOVEMENT                   Phase 2:    \n",
       "21244                           Phase 1: TAXI                   Phase 2:    \n",
       "21245                           Phase 1: TAXI                   Phase 2:    \n",
       "21246                           Phase 1: TAXI                   Phase 2:    \n",
       "21247                           Phase 1: TAXI          Phase 2: DEPARTURE   \n",
       "\n",
       "         PHASE 3                                             PHASES  \n",
       "0      Phase 3:     [Phase 1: LANDING, Phase 2: UNKNOWN, Phase 3: ]  \n",
       "1      Phase 3:   [Phase 1: UNKNOWN, AIRBORNE, Phase 2: UNKNOWN,...  \n",
       "2      Phase 3:   [Phase 1: UNKNOWN, AIRBORNE, Phase 2: , Phase ...  \n",
       "3      Phase 3:            [Phase 1: LANDING, Phase 2: , Phase 3: ]  \n",
       "4      Phase 3:   [Phase 1: UNKNOWN, AIRBORNE, Phase 2: UNKNOWN,...  \n",
       "...          ...                                                ...  \n",
       "21243  Phase 3:   [Phase 1: VEHICLE / PEDESTRIAN MOVEMENT, Phase...  \n",
       "21244  Phase 3:               [Phase 1: TAXI, Phase 2: , Phase 3: ]  \n",
       "21245  Phase 3:               [Phase 1: TAXI, Phase 2: , Phase 3: ]  \n",
       "21246  Phase 3:               [Phase 1: TAXI, Phase 2: , Phase 3: ]  \n",
       "21247  Phase 3:      [Phase 1: TAXI, Phase 2: DEPARTURE, Phase 3: ]  \n",
       "\n",
       "[21248 rows x 5 columns]"
      ]
     },
     "execution_count": 4,
     "metadata": {},
     "output_type": "execute_result"
    }
   ],
   "source": [
    "miniDf"
   ]
  },
  {
   "cell_type": "code",
   "execution_count": 5,
   "metadata": {
    "id": "F-BwRMkWrF8Z"
   },
   "outputs": [],
   "source": [
    "multilabel = MultiLabelBinarizer()"
   ]
  },
  {
   "cell_type": "code",
   "execution_count": 6,
   "metadata": {
    "id": "3hq_zei7rF8Z"
   },
   "outputs": [],
   "source": [
    "multilabel.fit(miniDf['PHASES'])\n",
    "\n",
    "# transform target variable\n",
    "y = multilabel.transform(miniDf['PHASES'])"
   ]
  },
  {
   "cell_type": "code",
   "execution_count": 7,
   "metadata": {
    "colab": {
     "base_uri": "https://localhost:8080/"
    },
    "executionInfo": {
     "elapsed": 139,
     "status": "ok",
     "timestamp": 1658869451069,
     "user": {
      "displayName": "Ethan Ortega",
      "userId": "02676512938622281977"
     },
     "user_tz": 420
    },
    "id": "sC675trgrF8a",
    "outputId": "61d9fe3e-9644-42ba-f935-4257191edfbb"
   },
   "outputs": [
    {
     "data": {
      "text/plain": [
       "array(['Phase 1: ', 'Phase 1: ABORTED TAKE OFF',\n",
       "       'Phase 1: ABORTED TAKEOFF', 'Phase 1: AERIAL APPLICATION',\n",
       "       'Phase 1: AERIAL DEMONSTRATION', 'Phase 1: APPROACH',\n",
       "       'Phase 1: ARRIVAL', 'Phase 1: DEPARTURE', 'Phase 1: EN ROUTE',\n",
       "       'Phase 1: EN ROUTE OCEANIC', 'Phase 1: LANDING', 'Phase 1: LUAW',\n",
       "       'Phase 1: MAINTENANCE TAXI', 'Phase 1: MANEUVER',\n",
       "       'Phase 1: MISSED APPROACH', 'Phase 1: NEC',\n",
       "       'Phase 1: PARACHUTE OPERATIONS', 'Phase 1: PUSHBACK',\n",
       "       'Phase 1: STANDING', 'Phase 1: TAKE OFF', 'Phase 1: TAXI',\n",
       "       'Phase 1: TOUCH AND GO', 'Phase 1: TOW', 'Phase 1: UNKNOWN',\n",
       "       'Phase 1: UNKNOWN, AIRBORNE', 'Phase 1: UNKNOWN, SURFACE',\n",
       "       'Phase 1: VEHICLE / PEDESTRIAN MOVEMENT', 'Phase 2: ',\n",
       "       'Phase 2: APPROACH', 'Phase 2: ARRIVAL', 'Phase 2: DEPARTURE',\n",
       "       'Phase 2: EN ROUTE', 'Phase 2: LANDING', 'Phase 2: LUAW',\n",
       "       'Phase 2: MISSED APPROACH', 'Phase 2: PARACHUTE OPERATIONS',\n",
       "       'Phase 2: STANDING', 'Phase 2: TAKE OFF', 'Phase 2: TAKEOFF',\n",
       "       'Phase 2: TAXI', 'Phase 2: TOUCH AND GO', 'Phase 2: TOW',\n",
       "       'Phase 2: UNKNOWN', 'Phase 2: UNKNOWN, AIRBORNE',\n",
       "       'Phase 2: UNKNOWN, SURFACE',\n",
       "       'Phase 2: VEHICLE / PEDESTRIAN MOVEMENT', 'Phase 3: ',\n",
       "       'Phase 3: APPROACH', 'Phase 3: DEPARTURE', 'Phase 3: LANDING',\n",
       "       'Phase 3: MISSED APPROACH', 'Phase 3: TAKE OFF'], dtype=object)"
      ]
     },
     "execution_count": 7,
     "metadata": {},
     "output_type": "execute_result"
    }
   ],
   "source": [
    "multilabel.classes_"
   ]
  },
  {
   "cell_type": "code",
   "execution_count": 8,
   "metadata": {
    "colab": {
     "base_uri": "https://localhost:8080/",
     "height": 557
    },
    "executionInfo": {
     "elapsed": 160,
     "status": "ok",
     "timestamp": 1658869493940,
     "user": {
      "displayName": "Ethan Ortega",
      "userId": "02676512938622281977"
     },
     "user_tz": 420
    },
    "id": "tmla76aSrF8b",
    "outputId": "60ca2db3-4e9b-4ef1-9974-d413dc057946"
   },
   "outputs": [
    {
     "data": {
      "text/html": [
       "<div>\n",
       "<style scoped>\n",
       "    .dataframe tbody tr th:only-of-type {\n",
       "        vertical-align: middle;\n",
       "    }\n",
       "\n",
       "    .dataframe tbody tr th {\n",
       "        vertical-align: top;\n",
       "    }\n",
       "\n",
       "    .dataframe thead th {\n",
       "        text-align: right;\n",
       "    }\n",
       "</style>\n",
       "<table border=\"1\" class=\"dataframe\">\n",
       "  <thead>\n",
       "    <tr style=\"text-align: right;\">\n",
       "      <th></th>\n",
       "      <th>Phase 1:</th>\n",
       "      <th>Phase 1: ABORTED TAKE OFF</th>\n",
       "      <th>Phase 1: ABORTED TAKEOFF</th>\n",
       "      <th>Phase 1: AERIAL APPLICATION</th>\n",
       "      <th>Phase 1: AERIAL DEMONSTRATION</th>\n",
       "      <th>Phase 1: APPROACH</th>\n",
       "      <th>Phase 1: ARRIVAL</th>\n",
       "      <th>Phase 1: DEPARTURE</th>\n",
       "      <th>Phase 1: EN ROUTE</th>\n",
       "      <th>Phase 1: EN ROUTE OCEANIC</th>\n",
       "      <th>...</th>\n",
       "      <th>Phase 2: UNKNOWN</th>\n",
       "      <th>Phase 2: UNKNOWN, AIRBORNE</th>\n",
       "      <th>Phase 2: UNKNOWN, SURFACE</th>\n",
       "      <th>Phase 2: VEHICLE / PEDESTRIAN MOVEMENT</th>\n",
       "      <th>Phase 3:</th>\n",
       "      <th>Phase 3: APPROACH</th>\n",
       "      <th>Phase 3: DEPARTURE</th>\n",
       "      <th>Phase 3: LANDING</th>\n",
       "      <th>Phase 3: MISSED APPROACH</th>\n",
       "      <th>Phase 3: TAKE OFF</th>\n",
       "    </tr>\n",
       "  </thead>\n",
       "  <tbody>\n",
       "    <tr>\n",
       "      <th>0</th>\n",
       "      <td>0</td>\n",
       "      <td>0</td>\n",
       "      <td>0</td>\n",
       "      <td>0</td>\n",
       "      <td>0</td>\n",
       "      <td>0</td>\n",
       "      <td>0</td>\n",
       "      <td>0</td>\n",
       "      <td>0</td>\n",
       "      <td>0</td>\n",
       "      <td>...</td>\n",
       "      <td>1</td>\n",
       "      <td>0</td>\n",
       "      <td>0</td>\n",
       "      <td>0</td>\n",
       "      <td>1</td>\n",
       "      <td>0</td>\n",
       "      <td>0</td>\n",
       "      <td>0</td>\n",
       "      <td>0</td>\n",
       "      <td>0</td>\n",
       "    </tr>\n",
       "    <tr>\n",
       "      <th>1</th>\n",
       "      <td>0</td>\n",
       "      <td>0</td>\n",
       "      <td>0</td>\n",
       "      <td>0</td>\n",
       "      <td>0</td>\n",
       "      <td>0</td>\n",
       "      <td>0</td>\n",
       "      <td>0</td>\n",
       "      <td>0</td>\n",
       "      <td>0</td>\n",
       "      <td>...</td>\n",
       "      <td>0</td>\n",
       "      <td>1</td>\n",
       "      <td>0</td>\n",
       "      <td>0</td>\n",
       "      <td>1</td>\n",
       "      <td>0</td>\n",
       "      <td>0</td>\n",
       "      <td>0</td>\n",
       "      <td>0</td>\n",
       "      <td>0</td>\n",
       "    </tr>\n",
       "    <tr>\n",
       "      <th>2</th>\n",
       "      <td>0</td>\n",
       "      <td>0</td>\n",
       "      <td>0</td>\n",
       "      <td>0</td>\n",
       "      <td>0</td>\n",
       "      <td>0</td>\n",
       "      <td>0</td>\n",
       "      <td>0</td>\n",
       "      <td>0</td>\n",
       "      <td>0</td>\n",
       "      <td>...</td>\n",
       "      <td>0</td>\n",
       "      <td>0</td>\n",
       "      <td>0</td>\n",
       "      <td>0</td>\n",
       "      <td>1</td>\n",
       "      <td>0</td>\n",
       "      <td>0</td>\n",
       "      <td>0</td>\n",
       "      <td>0</td>\n",
       "      <td>0</td>\n",
       "    </tr>\n",
       "    <tr>\n",
       "      <th>3</th>\n",
       "      <td>0</td>\n",
       "      <td>0</td>\n",
       "      <td>0</td>\n",
       "      <td>0</td>\n",
       "      <td>0</td>\n",
       "      <td>0</td>\n",
       "      <td>0</td>\n",
       "      <td>0</td>\n",
       "      <td>0</td>\n",
       "      <td>0</td>\n",
       "      <td>...</td>\n",
       "      <td>0</td>\n",
       "      <td>0</td>\n",
       "      <td>0</td>\n",
       "      <td>0</td>\n",
       "      <td>1</td>\n",
       "      <td>0</td>\n",
       "      <td>0</td>\n",
       "      <td>0</td>\n",
       "      <td>0</td>\n",
       "      <td>0</td>\n",
       "    </tr>\n",
       "    <tr>\n",
       "      <th>4</th>\n",
       "      <td>0</td>\n",
       "      <td>0</td>\n",
       "      <td>0</td>\n",
       "      <td>0</td>\n",
       "      <td>0</td>\n",
       "      <td>0</td>\n",
       "      <td>0</td>\n",
       "      <td>0</td>\n",
       "      <td>0</td>\n",
       "      <td>0</td>\n",
       "      <td>...</td>\n",
       "      <td>0</td>\n",
       "      <td>1</td>\n",
       "      <td>0</td>\n",
       "      <td>0</td>\n",
       "      <td>1</td>\n",
       "      <td>0</td>\n",
       "      <td>0</td>\n",
       "      <td>0</td>\n",
       "      <td>0</td>\n",
       "      <td>0</td>\n",
       "    </tr>\n",
       "    <tr>\n",
       "      <th>...</th>\n",
       "      <td>...</td>\n",
       "      <td>...</td>\n",
       "      <td>...</td>\n",
       "      <td>...</td>\n",
       "      <td>...</td>\n",
       "      <td>...</td>\n",
       "      <td>...</td>\n",
       "      <td>...</td>\n",
       "      <td>...</td>\n",
       "      <td>...</td>\n",
       "      <td>...</td>\n",
       "      <td>...</td>\n",
       "      <td>...</td>\n",
       "      <td>...</td>\n",
       "      <td>...</td>\n",
       "      <td>...</td>\n",
       "      <td>...</td>\n",
       "      <td>...</td>\n",
       "      <td>...</td>\n",
       "      <td>...</td>\n",
       "      <td>...</td>\n",
       "    </tr>\n",
       "    <tr>\n",
       "      <th>21243</th>\n",
       "      <td>0</td>\n",
       "      <td>0</td>\n",
       "      <td>0</td>\n",
       "      <td>0</td>\n",
       "      <td>0</td>\n",
       "      <td>0</td>\n",
       "      <td>0</td>\n",
       "      <td>0</td>\n",
       "      <td>0</td>\n",
       "      <td>0</td>\n",
       "      <td>...</td>\n",
       "      <td>0</td>\n",
       "      <td>0</td>\n",
       "      <td>0</td>\n",
       "      <td>0</td>\n",
       "      <td>1</td>\n",
       "      <td>0</td>\n",
       "      <td>0</td>\n",
       "      <td>0</td>\n",
       "      <td>0</td>\n",
       "      <td>0</td>\n",
       "    </tr>\n",
       "    <tr>\n",
       "      <th>21244</th>\n",
       "      <td>0</td>\n",
       "      <td>0</td>\n",
       "      <td>0</td>\n",
       "      <td>0</td>\n",
       "      <td>0</td>\n",
       "      <td>0</td>\n",
       "      <td>0</td>\n",
       "      <td>0</td>\n",
       "      <td>0</td>\n",
       "      <td>0</td>\n",
       "      <td>...</td>\n",
       "      <td>0</td>\n",
       "      <td>0</td>\n",
       "      <td>0</td>\n",
       "      <td>0</td>\n",
       "      <td>1</td>\n",
       "      <td>0</td>\n",
       "      <td>0</td>\n",
       "      <td>0</td>\n",
       "      <td>0</td>\n",
       "      <td>0</td>\n",
       "    </tr>\n",
       "    <tr>\n",
       "      <th>21245</th>\n",
       "      <td>0</td>\n",
       "      <td>0</td>\n",
       "      <td>0</td>\n",
       "      <td>0</td>\n",
       "      <td>0</td>\n",
       "      <td>0</td>\n",
       "      <td>0</td>\n",
       "      <td>0</td>\n",
       "      <td>0</td>\n",
       "      <td>0</td>\n",
       "      <td>...</td>\n",
       "      <td>0</td>\n",
       "      <td>0</td>\n",
       "      <td>0</td>\n",
       "      <td>0</td>\n",
       "      <td>1</td>\n",
       "      <td>0</td>\n",
       "      <td>0</td>\n",
       "      <td>0</td>\n",
       "      <td>0</td>\n",
       "      <td>0</td>\n",
       "    </tr>\n",
       "    <tr>\n",
       "      <th>21246</th>\n",
       "      <td>0</td>\n",
       "      <td>0</td>\n",
       "      <td>0</td>\n",
       "      <td>0</td>\n",
       "      <td>0</td>\n",
       "      <td>0</td>\n",
       "      <td>0</td>\n",
       "      <td>0</td>\n",
       "      <td>0</td>\n",
       "      <td>0</td>\n",
       "      <td>...</td>\n",
       "      <td>0</td>\n",
       "      <td>0</td>\n",
       "      <td>0</td>\n",
       "      <td>0</td>\n",
       "      <td>1</td>\n",
       "      <td>0</td>\n",
       "      <td>0</td>\n",
       "      <td>0</td>\n",
       "      <td>0</td>\n",
       "      <td>0</td>\n",
       "    </tr>\n",
       "    <tr>\n",
       "      <th>21247</th>\n",
       "      <td>0</td>\n",
       "      <td>0</td>\n",
       "      <td>0</td>\n",
       "      <td>0</td>\n",
       "      <td>0</td>\n",
       "      <td>0</td>\n",
       "      <td>0</td>\n",
       "      <td>0</td>\n",
       "      <td>0</td>\n",
       "      <td>0</td>\n",
       "      <td>...</td>\n",
       "      <td>0</td>\n",
       "      <td>0</td>\n",
       "      <td>0</td>\n",
       "      <td>0</td>\n",
       "      <td>1</td>\n",
       "      <td>0</td>\n",
       "      <td>0</td>\n",
       "      <td>0</td>\n",
       "      <td>0</td>\n",
       "      <td>0</td>\n",
       "    </tr>\n",
       "  </tbody>\n",
       "</table>\n",
       "<p>21248 rows × 52 columns</p>\n",
       "</div>"
      ],
      "text/plain": [
       "       Phase 1:   Phase 1: ABORTED TAKE OFF  Phase 1: ABORTED TAKEOFF  \\\n",
       "0              0                          0                         0   \n",
       "1              0                          0                         0   \n",
       "2              0                          0                         0   \n",
       "3              0                          0                         0   \n",
       "4              0                          0                         0   \n",
       "...          ...                        ...                       ...   \n",
       "21243          0                          0                         0   \n",
       "21244          0                          0                         0   \n",
       "21245          0                          0                         0   \n",
       "21246          0                          0                         0   \n",
       "21247          0                          0                         0   \n",
       "\n",
       "       Phase 1: AERIAL APPLICATION  Phase 1: AERIAL DEMONSTRATION  \\\n",
       "0                                0                              0   \n",
       "1                                0                              0   \n",
       "2                                0                              0   \n",
       "3                                0                              0   \n",
       "4                                0                              0   \n",
       "...                            ...                            ...   \n",
       "21243                            0                              0   \n",
       "21244                            0                              0   \n",
       "21245                            0                              0   \n",
       "21246                            0                              0   \n",
       "21247                            0                              0   \n",
       "\n",
       "       Phase 1: APPROACH  Phase 1: ARRIVAL  Phase 1: DEPARTURE  \\\n",
       "0                      0                 0                   0   \n",
       "1                      0                 0                   0   \n",
       "2                      0                 0                   0   \n",
       "3                      0                 0                   0   \n",
       "4                      0                 0                   0   \n",
       "...                  ...               ...                 ...   \n",
       "21243                  0                 0                   0   \n",
       "21244                  0                 0                   0   \n",
       "21245                  0                 0                   0   \n",
       "21246                  0                 0                   0   \n",
       "21247                  0                 0                   0   \n",
       "\n",
       "       Phase 1: EN ROUTE  Phase 1: EN ROUTE OCEANIC  ...  Phase 2: UNKNOWN  \\\n",
       "0                      0                          0  ...                 1   \n",
       "1                      0                          0  ...                 0   \n",
       "2                      0                          0  ...                 0   \n",
       "3                      0                          0  ...                 0   \n",
       "4                      0                          0  ...                 0   \n",
       "...                  ...                        ...  ...               ...   \n",
       "21243                  0                          0  ...                 0   \n",
       "21244                  0                          0  ...                 0   \n",
       "21245                  0                          0  ...                 0   \n",
       "21246                  0                          0  ...                 0   \n",
       "21247                  0                          0  ...                 0   \n",
       "\n",
       "       Phase 2: UNKNOWN, AIRBORNE  Phase 2: UNKNOWN, SURFACE  \\\n",
       "0                               0                          0   \n",
       "1                               1                          0   \n",
       "2                               0                          0   \n",
       "3                               0                          0   \n",
       "4                               1                          0   \n",
       "...                           ...                        ...   \n",
       "21243                           0                          0   \n",
       "21244                           0                          0   \n",
       "21245                           0                          0   \n",
       "21246                           0                          0   \n",
       "21247                           0                          0   \n",
       "\n",
       "       Phase 2: VEHICLE / PEDESTRIAN MOVEMENT  Phase 3:   Phase 3: APPROACH  \\\n",
       "0                                           0          1                  0   \n",
       "1                                           0          1                  0   \n",
       "2                                           0          1                  0   \n",
       "3                                           0          1                  0   \n",
       "4                                           0          1                  0   \n",
       "...                                       ...        ...                ...   \n",
       "21243                                       0          1                  0   \n",
       "21244                                       0          1                  0   \n",
       "21245                                       0          1                  0   \n",
       "21246                                       0          1                  0   \n",
       "21247                                       0          1                  0   \n",
       "\n",
       "       Phase 3: DEPARTURE  Phase 3: LANDING  Phase 3: MISSED APPROACH  \\\n",
       "0                       0                 0                         0   \n",
       "1                       0                 0                         0   \n",
       "2                       0                 0                         0   \n",
       "3                       0                 0                         0   \n",
       "4                       0                 0                         0   \n",
       "...                   ...               ...                       ...   \n",
       "21243                   0                 0                         0   \n",
       "21244                   0                 0                         0   \n",
       "21245                   0                 0                         0   \n",
       "21246                   0                 0                         0   \n",
       "21247                   0                 0                         0   \n",
       "\n",
       "       Phase 3: TAKE OFF  \n",
       "0                      0  \n",
       "1                      0  \n",
       "2                      0  \n",
       "3                      0  \n",
       "4                      0  \n",
       "...                  ...  \n",
       "21243                  0  \n",
       "21244                  0  \n",
       "21245                  0  \n",
       "21246                  0  \n",
       "21247                  0  \n",
       "\n",
       "[21248 rows x 52 columns]"
      ]
     },
     "execution_count": 8,
     "metadata": {},
     "output_type": "execute_result"
    }
   ],
   "source": [
    "pd.DataFrame(y, columns=multilabel.classes_)"
   ]
  },
  {
   "cell_type": "markdown",
   "metadata": {
    "id": "AkZxKaLcwAzs"
   },
   "source": [
    "Preprocessing"
   ]
  },
  {
   "cell_type": "code",
   "execution_count": 9,
   "metadata": {
    "id": "tbjHwGjirF8c"
   },
   "outputs": [],
   "source": [
    "# Stopword removal function\n",
    "stop_words = stopwords.words('english')\n",
    "\n",
    "def remove_stop_words(narrative):\n",
    "  return ' '.join([word for word in narrative.split() if word not in stop_words and len(word) > 1])"
   ]
  },
  {
   "cell_type": "code",
   "execution_count": 10,
   "metadata": {
    "id": "oOs33o8ErF8c"
   },
   "outputs": [],
   "source": [
    "narratives = miniDf['NARRATIVE REDACTED']\n",
    "\n",
    "# Remove all tags from narratives\n",
    "narratives = [re.sub(r'<(.+?)>','',narrative) for narrative in narratives]\n",
    "\n",
    "# Stripping all punctuation from narratives\n",
    "narratives = [narrative.translate(str.maketrans('','',string.punctuation)) for narrative in narratives]\n",
    "\n",
    "# Remove all stopwords from narratives\n",
    "narratives = list(map(remove_stop_words,narratives))\n",
    "narratives = np.array(narratives)\n",
    "miniDf['NARRATIVE REDACTED'] = narratives"
   ]
  },
  {
   "cell_type": "code",
   "execution_count": 11,
   "metadata": {
    "id": "Gw1vQz4sMqtG"
   },
   "outputs": [],
   "source": [
    "tfidf_vectorizer = TfidfVectorizer(max_df=0.8, max_features=10000)"
   ]
  },
  {
   "cell_type": "code",
   "execution_count": 12,
   "metadata": {
    "colab": {
     "base_uri": "https://localhost:8080/"
    },
    "executionInfo": {
     "elapsed": 5302,
     "status": "ok",
     "timestamp": 1658872682007,
     "user": {
      "displayName": "Ethan Ortega",
      "userId": "02676512938622281977"
     },
     "user_tz": 420
    },
    "id": "zhCEbV2XrF8e",
    "outputId": "77bfce71-449a-4995-f6d4-9e0311ebfec5"
   },
   "outputs": [
    {
     "name": "stdout",
     "output_type": "stream",
     "text": [
      "Requirement already satisfied: iterative-stratification in c:\\users\\rases\\anaconda3\\lib\\site-packages (0.1.7)\n",
      "Requirement already satisfied: scipy in c:\\users\\rases\\anaconda3\\lib\\site-packages (from iterative-stratification) (1.5.0)\n",
      "Requirement already satisfied: numpy in c:\\users\\rases\\anaconda3\\lib\\site-packages (from iterative-stratification) (1.22.3)\n",
      "Requirement already satisfied: scikit-learn in c:\\users\\rases\\anaconda3\\lib\\site-packages (from iterative-stratification) (0.23.1)\n",
      "Requirement already satisfied: joblib>=0.11 in c:\\users\\rases\\anaconda3\\lib\\site-packages (from scikit-learn->iterative-stratification) (0.16.0)\n",
      "Requirement already satisfied: threadpoolctl>=2.0.0 in c:\\users\\rases\\anaconda3\\lib\\site-packages (from scikit-learn->iterative-stratification) (2.1.0)\n"
     ]
    },
    {
     "name": "stderr",
     "output_type": "stream",
     "text": [
      "WARNING: Ignoring invalid distribution -umpy (c:\\users\\rases\\anaconda3\\lib\\site-packages)\n",
      "WARNING: Ignoring invalid distribution -umpy (c:\\users\\rases\\anaconda3\\lib\\site-packages)\n",
      "WARNING: Ignoring invalid distribution -umpy (c:\\users\\rases\\anaconda3\\lib\\site-packages)\n",
      "WARNING: Ignoring invalid distribution -umpy (c:\\users\\rases\\anaconda3\\lib\\site-packages)\n",
      "WARNING: Ignoring invalid distribution -umpy (c:\\users\\rases\\anaconda3\\lib\\site-packages)\n",
      "WARNING: Ignoring invalid distribution -umpy (c:\\users\\rases\\anaconda3\\lib\\site-packages)\n",
      "WARNING: You are using pip version 22.0.4; however, version 22.2.1 is available.\n",
      "You should consider upgrading via the 'c:\\users\\rases\\anaconda3\\python.exe -m pip install --upgrade pip' command.\n"
     ]
    }
   ],
   "source": [
    "!pip install iterative-stratification"
   ]
  },
  {
   "cell_type": "code",
   "execution_count": 13,
   "metadata": {
    "colab": {
     "base_uri": "https://localhost:8080/"
    },
    "executionInfo": {
     "elapsed": 5388,
     "status": "ok",
     "timestamp": 1658873017651,
     "user": {
      "displayName": "Ethan Ortega",
      "userId": "02676512938622281977"
     },
     "user_tz": 420
    },
    "id": "NTMEn9RenZ8v",
    "outputId": "e068f433-2b19-4814-eace-e2e8a8cc6654"
   },
   "outputs": [
    {
     "name": "stdout",
     "output_type": "stream",
     "text": [
      "TRAIN: [    1     2     5 ... 21245 21246 21247] TEST: [    0     3     4 ... 21239 21240 21242]\n",
      "TRAIN: [    0     1     2 ... 21244 21245 21247] TEST: [    4     5    11 ... 21240 21242 21246]\n",
      "TRAIN: [    0     1     2 ... 21241 21245 21246] TEST: [    6     8    10 ... 21243 21244 21247]\n",
      "TRAIN: [    0     1     4 ... 21244 21245 21247] TEST: [    2     3    10 ... 21238 21240 21246]\n",
      "TRAIN: [    0     1     2 ... 21245 21246 21247] TEST: [    5     7     8 ... 21238 21239 21243]\n"
     ]
    }
   ],
   "source": [
    "from iterstrat.ml_stratifiers import MultilabelStratifiedKFold\n",
    "from iterstrat.ml_stratifiers import MultilabelStratifiedShuffleSplit\n",
    "\n",
    "msss = MultilabelStratifiedShuffleSplit(n_splits=5, test_size=0.35, random_state=0)\n",
    "\n",
    "X = miniDf['NARRATIVE REDACTED']\n",
    "\n",
    "for train_index, test_index in msss.split(X, y):\n",
    "   print(\"TRAIN:\", train_index, \"TEST:\", test_index)\n",
    "   X_train, X_test = X[train_index], X[test_index]\n",
    "   y_train, y_test = y[train_index], y[test_index]\n",
    "\n",
    "# xtrain, ytrain, xval, yval = iterative_train_test_split(miniDf['NARRATIVE REDACTED'], y, test_size = 0.35)"
   ]
  },
  {
   "cell_type": "code",
   "execution_count": 14,
   "metadata": {
    "id": "1vzh9kkeSV56"
   },
   "outputs": [],
   "source": [
    "xtrain_tfidf = tfidf_vectorizer.fit_transform(X_train) \n",
    "xval_tfidf = tfidf_vectorizer.transform(X_test)"
   ]
  },
  {
   "cell_type": "code",
   "execution_count": 15,
   "metadata": {
    "id": "zwGfFAeKSZD2"
   },
   "outputs": [],
   "source": [
    "SVC = LinearSVC()\n",
    "clf = OneVsRestClassifier(SVC)\n",
    "\n",
    "# fit model on train data \n",
    "clf.fit(xtrain_tfidf, y_train)\n",
    "\n",
    "# make predictions for validation set \n",
    "y_pred = clf.predict(xval_tfidf)"
   ]
  },
  {
   "cell_type": "code",
   "execution_count": 16,
   "metadata": {
    "colab": {
     "base_uri": "https://localhost:8080/"
    },
    "executionInfo": {
     "elapsed": 146,
     "status": "ok",
     "timestamp": 1658873246925,
     "user": {
      "displayName": "Ethan Ortega",
      "userId": "02676512938622281977"
     },
     "user_tz": 420
    },
    "id": "Ye6UFSdgSpiW",
    "outputId": "3407c19d-5d71-45fe-bf6f-adf4d9869962"
   },
   "outputs": [
    {
     "data": {
      "text/plain": [
       "0.9425896965163981"
      ]
     },
     "execution_count": 16,
     "metadata": {},
     "output_type": "execute_result"
    }
   ],
   "source": [
    "f1_score(y_test, y_pred, average=\"micro\")"
   ]
  },
  {
   "cell_type": "code",
   "execution_count": 17,
   "metadata": {
    "colab": {
     "base_uri": "https://localhost:8080/"
    },
    "executionInfo": {
     "elapsed": 173,
     "status": "ok",
     "timestamp": 1658873301388,
     "user": {
      "displayName": "Ethan Ortega",
      "userId": "02676512938622281977"
     },
     "user_tz": 420
    },
    "id": "UwnuwZQkjRVG",
    "outputId": "0e2a19fa-3cd9-4279-9496-e040ca7bc9ae"
   },
   "outputs": [
    {
     "name": "stdout",
     "output_type": "stream",
     "text": [
      "Test Set Accuracy : 81.38784292630447 %\n",
      "\n",
      "\n",
      "Test Set Loss : 0.6550771713493606 %\n",
      "\n",
      "\n",
      "Classification Report : \n",
      "\n",
      "              precision    recall  f1-score   support\n",
      "\n",
      "           0       0.87      0.68      0.76       323\n",
      "           1       0.00      0.00      0.00         0\n",
      "           2       0.00      0.00      0.00         0\n",
      "           3       0.00      0.00      0.00         1\n",
      "           4       0.00      0.00      0.00         2\n",
      "           5       0.77      0.53      0.63       103\n",
      "           6       0.86      0.80      0.83        30\n",
      "           7       0.91      0.81      0.86       499\n",
      "           8       0.90      0.89      0.90       188\n",
      "           9       0.81      0.81      0.81        47\n",
      "          10       0.94      0.81      0.87       345\n",
      "          11       0.00      0.00      0.00         2\n",
      "          12       0.00      0.00      0.00         7\n",
      "          13       0.00      0.00      0.00         6\n",
      "          14       0.71      0.38      0.50        13\n",
      "          15       1.00      0.43      0.60         7\n",
      "          16       1.00      0.61      0.76        18\n",
      "          17       1.00      0.50      0.67         6\n",
      "          18       0.00      0.00      0.00         4\n",
      "          19       1.00      0.40      0.57        10\n",
      "          20       0.95      0.94      0.95      1959\n",
      "          21       0.87      0.69      0.77        48\n",
      "          22       0.00      0.00      0.00         2\n",
      "          23       0.84      0.85      0.84       168\n",
      "          24       0.93      0.96      0.95      3224\n",
      "          25       0.78      0.64      0.71        28\n",
      "          26       0.91      0.88      0.90       396\n",
      "          27       0.97      0.95      0.96      4951\n",
      "          28       0.88      0.87      0.87       482\n",
      "          29       0.00      0.00      0.00         1\n",
      "          30       0.85      0.78      0.82       270\n",
      "          31       0.00      0.00      0.00         2\n",
      "          32       0.85      0.71      0.78       242\n",
      "          33       1.00      0.57      0.73         7\n",
      "          34       0.00      0.00      0.00         1\n",
      "          35       0.00      0.00      0.00         0\n",
      "          36       1.00      0.43      0.60         7\n",
      "          37       0.90      0.69      0.78        13\n",
      "          38       0.00      0.00      0.00         0\n",
      "          39       0.89      0.51      0.65        63\n",
      "          40       0.71      0.40      0.51        25\n",
      "          41       1.00      1.00      1.00         1\n",
      "          42       0.38      0.04      0.07       151\n",
      "          43       0.87      0.91      0.89      1170\n",
      "          44       0.79      0.59      0.68        32\n",
      "          45       1.00      0.17      0.29        18\n",
      "          46       1.00      1.00      1.00      7425\n",
      "          47       1.00      0.25      0.40         4\n",
      "          48       0.00      0.00      0.00         2\n",
      "          49       0.00      0.00      0.00         2\n",
      "          50       1.00      0.50      0.67         2\n",
      "          51       0.00      0.00      0.00         1\n",
      "\n",
      "   micro avg       0.95      0.93      0.94     22308\n",
      "   macro avg       0.60      0.44      0.49     22308\n",
      "weighted avg       0.95      0.93      0.94     22308\n",
      " samples avg       0.95      0.93      0.94     22308\n",
      "\n"
     ]
    },
    {
     "name": "stderr",
     "output_type": "stream",
     "text": [
      "C:\\Users\\rases\\anaconda3\\lib\\site-packages\\sklearn\\metrics\\_classification.py:1221: UndefinedMetricWarning: Precision and F-score are ill-defined and being set to 0.0 in labels with no predicted samples. Use `zero_division` parameter to control this behavior.\n",
      "  _warn_prf(average, modifier, msg_start, len(result))\n",
      "C:\\Users\\rases\\anaconda3\\lib\\site-packages\\sklearn\\metrics\\_classification.py:1221: UndefinedMetricWarning: Recall and F-score are ill-defined and being set to 0.0 in labels with no true samples. Use `zero_division` parameter to control this behavior.\n",
      "  _warn_prf(average, modifier, msg_start, len(result))\n"
     ]
    }
   ],
   "source": [
    "#y_pred = clf.predict(X_test)\n",
    "print(f\"Test Set Accuracy : {accuracy_score(y_test, y_pred) * 100} %\\n\\n\")\n",
    "print(f\"Test Set Loss : {hamming_loss(y_test, y_pred) * 100} %\\n\\n\")\n",
    "print(f\"Classification Report : \\n\\n{classification_report(y_test, y_pred)}\")"
   ]
  },
  {
   "cell_type": "code",
   "execution_count": 18,
   "metadata": {},
   "outputs": [],
   "source": [
    "#Inference Function For Phase Labels"
   ]
  },
  {
   "cell_type": "code",
   "execution_count": 19,
   "metadata": {
    "id": "eL9Zk5efjxoX"
   },
   "outputs": [],
   "source": [
    "def infer_tags(x):\n",
    "    x = remove_stop_words(x)\n",
    "    x = re.sub(r'<(.+?)>','',x)\n",
    "    x_vec = tfidf_vectorizer.transform([x])\n",
    "    x_pred = clf.predict(x_vec)\n",
    "    return multilabel.inverse_transform(x_pred)\n"
   ]
  },
  {
   "cell_type": "code",
   "execution_count": 20,
   "metadata": {
    "colab": {
     "base_uri": "https://localhost:8080/",
     "height": 222
    },
    "executionInfo": {
     "elapsed": 26,
     "status": "error",
     "timestamp": 1658963699589,
     "user": {
      "displayName": "Ethan Ortega",
      "userId": "02676512938622281977"
     },
     "user_tz": 420
    },
    "id": "UbNSOQI-rF8e",
    "outputId": "f023adbc-3943-4451-ad39-d60b415aed68"
   },
   "outputs": [
    {
     "name": "stdout",
     "output_type": "stream",
     "text": [
      "Narrative:  IFR CRJ2 REPORTED NMAC WITH UNKN POWER GLIDER AT 4000 FEET 15 NW MINNEAPOLIS MN 102045C CLOSEST PROXIMITY 500 FEET VERTICAL UNKN LATERAL \n",
      "Predicted categories:  [('Phase 1: UNKNOWN, AIRBORNE', 'Phase 2: UNKNOWN, AIRBORNE', 'Phase 3: ')]\n",
      "Actual categories:  ['Phase 1: UNKNOWN, AIRBORNE', 'Phase 2: UNKNOWN, AIRBORNE', 'Phase 3: ']\n",
      "\n",
      "Narrative:  N1089W BEECH BE36 ENTERED DCA SFRA WITHOUT AUTHORIZATION AT UNKN ALTITUDE 12 SW LEESBURG VA 191712E NO CONFLICTS REPORTED EROC 924 MARTIN \n",
      "Predicted categories:  [('Phase 1: ', 'Phase 2: ', 'Phase 3: ')]\n",
      "Actual categories:  ['Phase 1: ', 'Phase 2: ', 'Phase 3: ']\n",
      "\n",
      "Narrative:  HAWKER BEECHCRAFT BE35 FAILED TO FOLLOW ATC INSTRUCTIONS AT 2600 FEET SSW WALLA WALLA WA 081303P NO CONFLICTS REPORTED \n",
      "Predicted categories:  [('Phase 1: UNKNOWN, AIRBORNE', 'Phase 2: ', 'Phase 3: ')]\n",
      "Actual categories:  ['Phase 1: UNKNOWN, AIRBORNE', 'Phase 2: ', 'Phase 3: ']\n",
      "\n",
      "Narrative:  SIGNIFICANT OPERATIONAL OCCURRENCE REPORTED WHEN CESSNA C172 AND EVEKTOR EVSS CAME WITHIN 100 FEET VERTICAL 05 MILE LATERAL SEPN AT UNKN ALTITUDE VCNTY SANTA ANA CA 091135P \n",
      "Predicted categories:  [('Phase 1: UNKNOWN, AIRBORNE', 'Phase 2: UNKNOWN, AIRBORNE', 'Phase 3: ')]\n",
      "Actual categories:  ['Phase 1: UNKNOWN, AIRBORNE', 'Phase 2: UNKNOWN, AIRBORNE', 'Phase 3: ']\n",
      "\n",
      "Narrative:  VAN’S RV7A ENTERED CLASS AIRSPACE WITHOUT AUTHORIZATION AT 1900 FEET GLENDALE AZ 325 1030P NO CONFLICTS REPORTED \n",
      "Predicted categories:  [('Phase 1: UNKNOWN, AIRBORNE', 'Phase 2: ', 'Phase 3: ')]\n",
      "Actual categories:  ['Phase 1: UNKNOWN, AIRBORNE', 'Phase 2: ', 'Phase 3: ']\n",
      "\n"
     ]
    }
   ],
   "source": [
    "for i in range(5): \n",
    "  k = X_test.sample(1).index[0] \n",
    "  print(\"Narrative: \", miniDf['NARRATIVE REDACTED'][k], \"\\nPredicted categories: \", infer_tags(X_test[k])), print(\"Actual categories: \",miniDf['PHASES'][k])\n",
    "  print()"
   ]
  },
  {
   "cell_type": "code",
   "execution_count": 21,
   "metadata": {},
   "outputs": [],
   "source": [
    "#Creating CSV File"
   ]
  },
  {
   "cell_type": "code",
   "execution_count": 22,
   "metadata": {},
   "outputs": [],
   "source": [
    "nr = miniDf.iloc[X_test.index]['NARRATIVE REDACTED']\n",
    "ph = miniDf.iloc[X_test.index]['PHASES']\n",
    "\n",
    "predicted = pd.concat([nr, ph], axis = 1)\n",
    "\n",
    "predicted['Predicted'] = predicted.apply(lambda x: infer_tags(x['NARRATIVE REDACTED']), axis=1)"
   ]
  },
  {
   "cell_type": "code",
   "execution_count": 23,
   "metadata": {},
   "outputs": [],
   "source": [
    "#predicted.to_excel('Actual_VS_Predicted_Phases.xlsx')"
   ]
  },
  {
   "cell_type": "code",
   "execution_count": null,
   "metadata": {},
   "outputs": [],
   "source": [
    "#Create Pickle File"
   ]
  },
  {
   "cell_type": "code",
   "execution_count": 24,
   "metadata": {},
   "outputs": [],
   "source": [
    "import pickle"
   ]
  },
  {
   "cell_type": "code",
   "execution_count": 25,
   "metadata": {},
   "outputs": [],
   "source": [
    "filename = 'phase_pred_model'\n",
    "pickle.dump(clf, open(filename, 'wb'))"
   ]
  },
  {
   "cell_type": "code",
   "execution_count": 45,
   "metadata": {},
   "outputs": [
    {
     "data": {
      "text/plain": [
       "[('Phase 1: UNKNOWN, AIRBORNE', 'Phase 2: ', 'Phase 3: ')]"
      ]
     },
     "execution_count": 45,
     "metadata": {},
     "output_type": "execute_result"
    }
   ],
   "source": [
    "load_model = pickle.load(open(filename, 'rb'))\n",
    "mlb = load_model.predict(xval_tfidf[0])\n",
    "multilabel.inverse_transform(mlb)"
   ]
  }
 ],
 "metadata": {
  "colab": {
   "collapsed_sections": [],
   "name": "Ethan's copy of MultiLabelClassification_Phases.ipynb",
   "provenance": [
    {
     "file_id": "1OrFBTKoDnoWl1CyR6RwLarF5z3YK5Nsd",
     "timestamp": 1658867037618
    }
   ]
  },
  "kernelspec": {
   "display_name": "Python 3",
   "language": "python",
   "name": "python3"
  },
  "language_info": {
   "codemirror_mode": {
    "name": "ipython",
    "version": 3
   },
   "file_extension": ".py",
   "mimetype": "text/x-python",
   "name": "python",
   "nbconvert_exporter": "python",
   "pygments_lexer": "ipython3",
   "version": "3.8.3"
  }
 },
 "nbformat": 4,
 "nbformat_minor": 1
}
